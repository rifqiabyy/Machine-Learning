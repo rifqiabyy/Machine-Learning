{
  "nbformat": 4,
  "nbformat_minor": 0,
  "metadata": {
    "colab": {
      "name": "tugas week 8.ipynb",
      "provenance": [],
      "authorship_tag": "ABX9TyPAxPt050R3hp17XsqpjFHK",
      "include_colab_link": true
    },
    "kernelspec": {
      "name": "python3",
      "display_name": "Python 3"
    },
    "language_info": {
      "name": "python"
    }
  },
  "cells": [
    {
      "cell_type": "markdown",
      "metadata": {
        "id": "view-in-github",
        "colab_type": "text"
      },
      "source": [
        "<a href=\"https://colab.research.google.com/github/rifqiabyy/Machine-Learning/blob/main/week%208%20ML/tugas_week_8.ipynb\" target=\"_parent\"><img src=\"https://colab.research.google.com/assets/colab-badge.svg\" alt=\"Open In Colab\"/></a>"
      ]
    },
    {
      "cell_type": "markdown",
      "source": [
        "Support Vector Machines (SVM)\n",
        "\n",
        "Support vector machines (SVMs) are a set of supervised learning methods used for classification, regression and outliers detection.\n",
        "\n",
        "Example of SVM Classification: Maximum Margin Separating Hyperplane Programs"
      ],
      "metadata": {
        "id": "y_K7N2564tMn"
      }
    },
    {
      "cell_type": "code",
      "source": [
        "import numpy as np\n",
        "import matplotlib.pyplot as plt\n",
        "from sklearn import svm\n",
        "from sklearn.datasets import make_blobs\n",
        "X, y = make_blobs(n_samples=40, centers=2, random_state=6)\n",
        "clf = svm.SVC(kernel=\"linear\", C=1000)\n",
        "clf.fit(X, y)\n",
        "\n",
        "plt.scatter(X[:, 0], X[:, 1], c=y, s=30, cmap=plt.cm.Paired)\n",
        "ax = plt.gca()\n",
        "xlim = ax.get_xlim()\n",
        "ylim = ax.get_ylim()\n",
        "xx = np.linspace(xlim[0], xlim[1], 30)\n",
        "yy = np.linspace(ylim[0], ylim[1], 30)\n",
        "YY, XX = np.meshgrid(yy, xx)\n",
        "xy = np.vstack([XX.ravel(), YY.ravel()]).T\n",
        "Z = clf.decision_function(xy).reshape(XX.shape)\n",
        "ax.contour(\n",
        "    XX, YY, Z, colors=\"k\", levels=[-1, 0, 1], alpha=0.5, linestyles=[\"--\", \"-\", \"--\"]\n",
        ")\n",
        "ax.scatter(\n",
        "    clf.support_vectors_[:, 0],\n",
        "    clf.support_vectors_[:, 1],\n",
        "    s=100,\n",
        "    linewidth=1,\n",
        "    facecolors=\"none\",\n",
        "    edgecolors=\"k\",\n",
        ")\n",
        "plt.show()"
      ],
      "metadata": {
        "colab": {
          "base_uri": "https://localhost:8080/",
          "height": 265
        },
        "id": "w8ADlBJV40Qe",
        "outputId": "54e74cf5-7571-444e-9d46-dd24e12c9eca"
      },
      "execution_count": null,
      "outputs": [
        {
          "output_type": "display_data",
          "data": {
            "text/plain": [
              "<Figure size 432x288 with 1 Axes>"
            ],
            "image/png": "[encoded data removed]"
          },
          "metadata": {
            "needs_background": "light"
          }
        }
      ]
    },
    {
      "cell_type": "markdown",
      "source": [
        "**Credit card dataset: SVM Classification**"
      ],
      "metadata": {
        "id": "Nw0LkxUV5HQW"
      }
    },
    {
      "cell_type": "code",
      "source": [
        "import pandas as pd \n",
        "import numpy as np\n",
        "from sklearn import preprocessing\n",
        "from sklearn.metrics import confusion_matrix\n",
        "from sklearn import svm\n",
        "import itertools\n",
        "import matplotlib.pyplot as plt\n",
        "import matplotlib.mlab as mlab\n",
        "import seaborn\n",
        "\n",
        "%matplotlib inline"
      ],
      "metadata": {
        "id": "VaKbSEBI5Kso"
      },
      "execution_count": null,
      "outputs": []
    },
    {
      "cell_type": "code",
      "source": [
        "data = pd.read_csv('creditcard.csv')\n",
        "df = pd.DataFrame(data)\n",
        "df.describe()"
      ],
      "metadata": {
        "colab": {
          "base_uri": "https://localhost:8080/",
          "height": 394
        },
        "id": "2i0tUL9D5TvA",
        "outputId": "f2a7198a-a1fb-4ae8-958a-e407592aa093"
      },
      "execution_count": null,
      "outputs": [
        {
          "output_type": "execute_result",
          "data": {
            "text/plain": [
              "               Time            V1            V2            V3            V4  \\\n",
              "count  19898.000000  19898.000000  19898.000000  19898.000000  19898.000000   \n",
              "mean   15492.416374     -0.244326      0.242420      0.745774      0.277011   \n",
              "std    10512.066686      1.889986      1.527342      1.767726      1.466218   \n",
              "min        0.000000    -30.552380    -40.978852    -31.103685     -5.172595   \n",
              "25%     4536.250000     -0.959632     -0.329008      0.309235     -0.636713   \n",
              "50%    14796.000000     -0.302521      0.220079      0.898672      0.224608   \n",
              "75%    26220.500000      1.164473      0.870117      1.532922      1.142143   \n",
              "max    30633.000000      1.960497     16.713389      4.101716     11.927512   \n",
              "\n",
              "                 V5            V6            V7            V8            V9  \\\n",
              "count  19898.000000  19898.000000  19898.000000  19898.000000  19898.000000   \n",
              "mean      -0.163264      0.092881     -0.145279      0.022237      0.636382   \n",
              "std        1.430821      1.331029      1.338260      1.346813      1.278839   \n",
              "min      -32.092129    -23.496714    -26.548144    -41.484823     -7.175097   \n",
              "25%       -0.745156     -0.657306     -0.599403     -0.171779     -0.209565   \n",
              "50%       -0.199377     -0.175434     -0.072254      0.023822      0.620176   \n",
              "75%        0.341367      0.486735      0.448572      0.279960      1.409142   \n",
              "max       34.099309     21.393069     34.303177     20.007208     10.392889   \n",
              "\n",
              "       ...           V21           V22           V23           V24  \\\n",
              "count  ...  19897.000000  19897.000000  19897.000000  19897.000000   \n",
              "mean   ...     -0.047949     -0.146461     -0.038093      0.010678   \n",
              "std    ...      0.828385      0.637567      0.520683      0.591180   \n",
              "min    ...    -20.262054     -8.593642    -26.751119     -2.728650   \n",
              "25%    ...     -0.259497     -0.563992     -0.174213     -0.333314   \n",
              "50%    ...     -0.115398     -0.118803     -0.046994      0.061181   \n",
              "75%    ...      0.049521      0.254057      0.073666      0.398549   \n",
              "max    ...     22.614889      5.805795     13.876221      3.695503   \n",
              "\n",
              "                V25           V26           V27           V28        Amount  \\\n",
              "count  19897.000000  19897.000000  19897.000000  19897.000000  19897.000000   \n",
              "mean       0.122924      0.033127      0.014454      0.007312     70.271100   \n",
              "std        0.437675      0.530315      0.393002      0.244372    205.363789   \n",
              "min       -7.495741     -1.338556     -8.567638     -3.575312      0.000000   \n",
              "25%       -0.138325     -0.341917     -0.069146     -0.010879      5.750000   \n",
              "50%        0.160495     -0.036546      0.003868      0.019083     16.000000   \n",
              "75%        0.400713      0.332729      0.096281      0.077551     59.980000   \n",
              "max        5.525093      3.517346      8.254376      4.860769   7879.420000   \n",
              "\n",
              "              Class  \n",
              "count  19897.000000  \n",
              "mean       0.004272  \n",
              "std        0.065222  \n",
              "min        0.000000  \n",
              "25%        0.000000  \n",
              "50%        0.000000  \n",
              "75%        0.000000  \n",
              "max        1.000000  \n",
              "\n",
              "[8 rows x 31 columns]"
            ],
            "text/html": [
              "\n",
              "  <div id=\"df-81df4115-e2cb-4d25-a14f-9ed60375a3c8\">\n",
              "    <div class=\"colab-df-container\">\n",
              "      <div>\n",
              "<style scoped>\n",
              "    .dataframe tbody tr th:only-of-type {\n",
              "        vertical-align: middle;\n",
              "    }\n",
              "\n",
              "    .dataframe tbody tr th {\n",
              "        vertical-align: top;\n",
              "    }\n",
              "\n",
              "    .dataframe thead th {\n",
              "        text-align: right;\n",
              "    }\n",
              "</style>\n",
              "<table border=\"1\" class=\"dataframe\">\n",
              "  <thead>\n",
              "    <tr style=\"text-align: right;\">\n",
              "      <th></th>\n",
              "      <th>Time</th>\n",
              "      <th>V1</th>\n",
              "      <th>V2</th>\n",
              "      <th>V3</th>\n",
              "      <th>V4</th>\n",
              "      <th>V5</th>\n",
              "      <th>V6</th>\n",
              "      <th>V7</th>\n",
              "      <th>V8</th>\n",
              "      <th>V9</th>\n",
              "      <th>...</th>\n",
              "      <th>V21</th>\n",
              "      <th>V22</th>\n",
              "      <th>V23</th>\n",
              "      <th>V24</th>\n",
              "      <th>V25</th>\n",
              "      <th>V26</th>\n",
              "      <th>V27</th>\n",
              "      <th>V28</th>\n",
              "      <th>Amount</th>\n",
              "      <th>Class</th>\n",
              "    </tr>\n",
              "  </thead>\n",
              "  <tbody>\n",
              "    <tr>\n",
              "      <th>count</th>\n",
              "      <td>19898.000000</td>\n",
              "      <td>19898.000000</td>\n",
              "      <td>19898.000000</td>\n",
              "      <td>19898.000000</td>\n",
              "      <td>19898.000000</td>\n",
              "      <td>19898.000000</td>\n",
              "      <td>19898.000000</td>\n",
              "      <td>19898.000000</td>\n",
              "      <td>19898.000000</td>\n",
              "      <td>19898.000000</td>\n",
              "      <td>...</td>\n",
              "      <td>19897.000000</td>\n",
              "      <td>19897.000000</td>\n",
              "      <td>19897.000000</td>\n",
              "      <td>19897.000000</td>\n",
              "      <td>19897.000000</td>\n",
              "      <td>19897.000000</td>\n",
              "      <td>19897.000000</td>\n",
              "      <td>19897.000000</td>\n",
              "      <td>19897.000000</td>\n",
              "      <td>19897.000000</td>\n",
              "    </tr>\n",
              "    <tr>\n",
              "      <th>mean</th>\n",
              "      <td>15492.416374</td>\n",
              "      <td>-0.244326</td>\n",
              "      <td>0.242420</td>\n",
              "      <td>0.745774</td>\n",
              "      <td>0.277011</td>\n",
              "      <td>-0.163264</td>\n",
              "      <td>0.092881</td>\n",
              "      <td>-0.145279</td>\n",
              "      <td>0.022237</td>\n",
              "      <td>0.636382</td>\n",
              "      <td>...</td>\n",
              "      <td>-0.047949</td>\n",
              "      <td>-0.146461</td>\n",
              "      <td>-0.038093</td>\n",
              "      <td>0.010678</td>\n",
              "      <td>0.122924</td>\n",
              "      <td>0.033127</td>\n",
              "      <td>0.014454</td>\n",
              "      <td>0.007312</td>\n",
              "      <td>70.271100</td>\n",
              "      <td>0.004272</td>\n",
              "    </tr>\n",
              "    <tr>\n",
              "      <th>std</th>\n",
              "      <td>10512.066686</td>\n",
              "      <td>1.889986</td>\n",
              "      <td>1.527342</td>\n",
              "      <td>1.767726</td>\n",
              "      <td>1.466218</td>\n",
              "      <td>1.430821</td>\n",
              "      <td>1.331029</td>\n",
              "      <td>1.338260</td>\n",
              "      <td>1.346813</td>\n",
              "      <td>1.278839</td>\n",
              "      <td>...</td>\n",
              "      <td>0.828385</td>\n",
              "      <td>0.637567</td>\n",
              "      <td>0.520683</td>\n",
              "      <td>0.591180</td>\n",
              "      <td>0.437675</td>\n",
              "      <td>0.530315</td>\n",
              "      <td>0.393002</td>\n",
              "      <td>0.244372</td>\n",
              "      <td>205.363789</td>\n",
              "      <td>0.065222</td>\n",
              "    </tr>\n",
              "    <tr>\n",
              "      <th>min</th>\n",
              "      <td>0.000000</td>\n",
              "      <td>-30.552380</td>\n",
              "      <td>-40.978852</td>\n",
              "      <td>-31.103685</td>\n",
              "      <td>-5.172595</td>\n",
              "      <td>-32.092129</td>\n",
              "      <td>-23.496714</td>\n",
              "      <td>-26.548144</td>\n",
              "      <td>-41.484823</td>\n",
              "      <td>-7.175097</td>\n",
              "      <td>...</td>\n",
              "      <td>-20.262054</td>\n",
              "      <td>-8.593642</td>\n",
              "      <td>-26.751119</td>\n",
              "      <td>-2.728650</td>\n",
              "      <td>-7.495741</td>\n",
              "      <td>-1.338556</td>\n",
              "      <td>-8.567638</td>\n",
              "      <td>-3.575312</td>\n",
              "      <td>0.000000</td>\n",
              "      <td>0.000000</td>\n",
              "    </tr>\n",
              "    <tr>\n",
              "      <th>25%</th>\n",
              "      <td>4536.250000</td>\n",
              "      <td>-0.959632</td>\n",
              "      <td>-0.329008</td>\n",
              "      <td>0.309235</td>\n",
              "      <td>-0.636713</td>\n",
              "      <td>-0.745156</td>\n",
              "      <td>-0.657306</td>\n",
              "      <td>-0.599403</td>\n",
              "      <td>-0.171779</td>\n",
              "      <td>-0.209565</td>\n",
              "      <td>...</td>\n",
              "      <td>-0.259497</td>\n",
              "      <td>-0.563992</td>\n",
              "      <td>-0.174213</td>\n",
              "      <td>-0.333314</td>\n",
              "      <td>-0.138325</td>\n",
              "      <td>-0.341917</td>\n",
              "      <td>-0.069146</td>\n",
              "      <td>-0.010879</td>\n",
              "      <td>5.750000</td>\n",
              "      <td>0.000000</td>\n",
              "    </tr>\n",
              "    <tr>\n",
              "      <th>50%</th>\n",
              "      <td>14796.000000</td>\n",
              "      <td>-0.302521</td>\n",
              "      <td>0.220079</td>\n",
              "      <td>0.898672</td>\n",
              "      <td>0.224608</td>\n",
              "      <td>-0.199377</td>\n",
              "      <td>-0.175434</td>\n",
              "      <td>-0.072254</td>\n",
              "      <td>0.023822</td>\n",
              "      <td>0.620176</td>\n",
              "      <td>...</td>\n",
              "      <td>-0.115398</td>\n",
              "      <td>-0.118803</td>\n",
              "      <td>-0.046994</td>\n",
              "      <td>0.061181</td>\n",
              "      <td>0.160495</td>\n",
              "      <td>-0.036546</td>\n",
              "      <td>0.003868</td>\n",
              "      <td>0.019083</td>\n",
              "      <td>16.000000</td>\n",
              "      <td>0.000000</td>\n",
              "    </tr>\n",
              "    <tr>\n",
              "      <th>75%</th>\n",
              "      <td>26220.500000</td>\n",
              "      <td>1.164473</td>\n",
              "      <td>0.870117</td>\n",
              "      <td>1.532922</td>\n",
              "      <td>1.142143</td>\n",
              "      <td>0.341367</td>\n",
              "      <td>0.486735</td>\n",
              "      <td>0.448572</td>\n",
              "      <td>0.279960</td>\n",
              "      <td>1.409142</td>\n",
              "      <td>...</td>\n",
              "      <td>0.049521</td>\n",
              "      <td>0.254057</td>\n",
              "      <td>0.073666</td>\n",
              "      <td>0.398549</td>\n",
              "      <td>0.400713</td>\n",
              "      <td>0.332729</td>\n",
              "      <td>0.096281</td>\n",
              "      <td>0.077551</td>\n",
              "      <td>59.980000</td>\n",
              "      <td>0.000000</td>\n",
              "    </tr>\n",
              "    <tr>\n",
              "      <th>max</th>\n",
              "      <td>30633.000000</td>\n",
              "      <td>1.960497</td>\n",
              "      <td>16.713389</td>\n",
              "      <td>4.101716</td>\n",
              "      <td>11.927512</td>\n",
              "      <td>34.099309</td>\n",
              "      <td>21.393069</td>\n",
              "      <td>34.303177</td>\n",
              "      <td>20.007208</td>\n",
              "      <td>10.392889</td>\n",
              "      <td>...</td>\n",
              "      <td>22.614889</td>\n",
              "      <td>5.805795</td>\n",
              "      <td>13.876221</td>\n",
              "      <td>3.695503</td>\n",
              "      <td>5.525093</td>\n",
              "      <td>3.517346</td>\n",
              "      <td>8.254376</td>\n",
              "      <td>4.860769</td>\n",
              "      <td>7879.420000</td>\n",
              "      <td>1.000000</td>\n",
              "    </tr>\n",
              "  </tbody>\n",
              "</table>\n",
              "<p>8 rows × 31 columns</p>\n",
              "</div>\n",
              "      <button class=\"colab-df-convert\" onclick=\"convertToInteractive('df-81df4115-e2cb-4d25-a14f-9ed60375a3c8')\"\n",
              "              title=\"Convert this dataframe to an interactive table.\"\n",
              "              style=\"display:none;\">\n",
              "        \n",
              "  <svg xmlns=\"http://www.w3.org/2000/svg\" height=\"24px\"viewBox=\"0 0 24 24\"\n",
              "       width=\"24px\">\n",
              "    <path d=\"M0 0h24v24H0V0z\" fill=\"none\"/>\n",
              "    <path d=\"M18.56 5.44l.94 2.06.94-2.06 2.06-.94-2.06-.94-.94-2.06-.94 2.06-2.06.94zm-11 1L8.5 8.5l.94-2.06 2.06-.94-2.06-.94L8.5 2.5l-.94 2.06-2.06.94zm10 10l.94 2.06.94-2.06 2.06-.94-2.06-.94-.94-2.06-.94 2.06-2.06.94z\"/><path d=\"M17.41 7.96l-1.37-1.37c-.4-.4-.92-.59-1.43-.59-.52 0-1.04.2-1.43.59L10.3 9.45l-7.72 7.72c-.78.78-.78 2.05 0 2.83L4 21.41c.39.39.9.59 1.41.59.51 0 1.02-.2 1.41-.59l7.78-7.78 2.81-2.81c.8-.78.8-2.07 0-2.86zM5.41 20L4 18.59l7.72-7.72 1.47 1.35L5.41 20z\"/>\n",
              "  </svg>\n",
              "      </button>\n",
              "      \n",
              "  <style>\n",
              "    .colab-df-container {\n",
              "      display:flex;\n",
              "      flex-wrap:wrap;\n",
              "      gap: 12px;\n",
              "    }\n",
              "\n",
              "    .colab-df-convert {\n",
              "      background-color: #E8F0FE;\n",
              "      border: none;\n",
              "      border-radius: 50%;\n",
              "      cursor: pointer;\n",
              "      display: none;\n",
              "      fill: #1967D2;\n",
              "      height: 32px;\n",
              "      padding: 0 0 0 0;\n",
              "      width: 32px;\n",
              "    }\n",
              "\n",
              "    .colab-df-convert:hover {\n",
              "      background-color: #E2EBFA;\n",
              "      box-shadow: 0px 1px 2px rgba(60, 64, 67, 0.3), 0px 1px 3px 1px rgba(60, 64, 67, 0.15);\n",
              "      fill: #174EA6;\n",
              "    }\n",
              "\n",
              "    [theme=dark] .colab-df-convert {\n",
              "      background-color: #3B4455;\n",
              "      fill: #D2E3FC;\n",
              "    }\n",
              "\n",
              "    [theme=dark] .colab-df-convert:hover {\n",
              "      background-color: #434B5C;\n",
              "      box-shadow: 0px 1px 3px 1px rgba(0, 0, 0, 0.15);\n",
              "      filter: drop-shadow(0px 1px 2px rgba(0, 0, 0, 0.3));\n",
              "      fill: #FFFFFF;\n",
              "    }\n",
              "  </style>\n",
              "\n",
              "      <script>\n",
              "        const buttonEl =\n",
              "          document.querySelector('#df-81df4115-e2cb-4d25-a14f-9ed60375a3c8 button.colab-df-convert');\n",
              "        buttonEl.style.display =\n",
              "          google.colab.kernel.accessAllowed ? 'block' : 'none';\n",
              "\n",
              "        async function convertToInteractive(key) {\n",
              "          const element = document.querySelector('#df-81df4115-e2cb-4d25-a14f-9ed60375a3c8');\n",
              "          const dataTable =\n",
              "            await google.colab.kernel.invokeFunction('convertToInteractive',\n",
              "                                                     [key], {});\n",
              "          if (!dataTable) return;\n",
              "\n",
              "          const docLinkHtml = 'Like what you see? Visit the ' +\n",
              "            '<a target=\"_blank\" href=https://colab.research.google.com/notebooks/data_table.ipynb>data table notebook</a>'\n",
              "            + ' to learn more about interactive tables.';\n",
              "          element.innerHTML = '';\n",
              "          dataTable['output_type'] = 'display_data';\n",
              "          await google.colab.output.renderOutput(dataTable, element);\n",
              "          const docLink = document.createElement('div');\n",
              "          docLink.innerHTML = docLinkHtml;\n",
              "          element.appendChild(docLink);\n",
              "        }\n",
              "      </script>\n",
              "    </div>\n",
              "  </div>\n",
              "  "
            ]
          },
          "metadata": {},
          "execution_count": 5
        }
      ]
    },
    {
      "cell_type": "code",
      "source": [
        "df_fraud = df[df['Class'] == 1] \n",
        "plt.figure(figsize=(15,10))\n",
        "plt.scatter(df_fraud['Time'], df_fraud['Amount']) \n",
        "plt.title('Scratter plot amount fraud')\n",
        "plt.xlabel('Time')\n",
        "plt.ylabel('Amount')\n",
        "plt.xlim([0,175000])\n",
        "plt.ylim([0,2500])\n",
        "plt.show()"
      ],
      "metadata": {
        "colab": {
          "base_uri": "https://localhost:8080/",
          "height": 621
        },
        "id": "VSsasn1H6Vgq",
        "outputId": "27c198b5-07df-476b-f6c9-a9e4467f57fc"
      },
      "execution_count": null,
      "outputs": [
        {
          "output_type": "display_data",
          "data": {
            "text/plain": [
              "<Figure size 1080x720 with 1 Axes>"
            ],
            "image/png": "[encoded data removed]"
          },
          "metadata": {
            "needs_background": "light"
          }
        }
      ]
    },
    {
      "cell_type": "code",
      "source": [
        "nb_big_fraud = df_fraud[df_fraud['Amount'] > 1000].shape[0] # Recovery of frauds over 1000\n",
        "print('There are only '+ str(nb_big_fraud) + ' frauds where the amount was bigger than 1000 over ' + str(df_fraud.shape[0]) + ' frauds')"
      ],
      "metadata": {
        "colab": {
          "base_uri": "https://localhost:8080/"
        },
        "id": "AaxuKWzy6dF7",
        "outputId": "90b955ed-0f58-43d0-8486-3ce3adb06ba0"
      },
      "execution_count": null,
      "outputs": [
        {
          "output_type": "stream",
          "name": "stdout",
          "text": [
            "There are only 2 frauds where the amount was bigger than 1000 over 85 frauds\n"
          ]
        }
      ]
    },
    {
      "cell_type": "code",
      "source": [
        "# Unbalence data\n",
        "number_fraud = len(data[data.Class == 1])\n",
        "number_no_fraud = len(data[data.Class == 0])\n",
        "print('There are only '+ str(number_fraud) + ' frauds in the original dataset, even though there are ' + str(number_no_fraud) +' no frauds in the data')"
      ],
      "metadata": {
        "colab": {
          "base_uri": "https://localhost:8080/"
        },
        "id": "9QFpCCjP6fmA",
        "outputId": "ddf59175-99ce-4194-be94-17c4ed935323"
      },
      "execution_count": null,
      "outputs": [
        {
          "output_type": "stream",
          "name": "stdout",
          "text": [
            "There are only 85 frauds in the original dataset, even though there are 19812 no frauds in the data\n"
          ]
        }
      ]
    },
    {
      "cell_type": "code",
      "source": [
        "print(\"The accuracy of the classifier then would be : \"+ str((284315-492)/284315)+ \" which is the number of good classification over the number of tup\")"
      ],
      "metadata": {
        "colab": {
          "base_uri": "https://localhost:8080/"
        },
        "id": "jZ2E21a061yo",
        "outputId": "2c63d218-5fc6-4a0e-d822-b031552a98f3"
      },
      "execution_count": null,
      "outputs": [
        {
          "output_type": "stream",
          "name": "stdout",
          "text": [
            "The accuracy of the classifier then would be : 0.998269524998681 which is the number of good classification over the number of tup\n"
          ]
        }
      ]
    },
    {
      "cell_type": "code",
      "source": [
        "df_corr = df.corr() \n",
        "\n",
        "plt.figure(figsize=(15,10))\n",
        "seaborn.heatmap(df_corr, cmap=\"YlGnBu\") # Displaying the Heatmap\n",
        "seaborn.set(font_scale=2,style='white')\n",
        "\n",
        "plt.title('Heatmap correlation')\n",
        "plt.show()"
      ],
      "metadata": {
        "colab": {
          "base_uri": "https://localhost:8080/",
          "height": 646
        },
        "id": "j_yqp0ry6-6v",
        "outputId": "42590fe3-9359-4617-cd70-d0a0cee0d9b1"
      },
      "execution_count": null,
      "outputs": [
        {
          "output_type": "display_data",
          "data": {
            "text/plain": [
              "<Figure size 1080x720 with 2 Axes>"
            ],
            "image/png": "[encoded data removed]"
          },
          "metadata": {
            "needs_background": "light"
          }
        }
      ]
    },
    {
      "cell_type": "code",
      "source": [
        "rank = df_corr['Class'] \n",
        "df_rank = pd.DataFrame(rank) \n",
        "\n",
        "# Ranking the absolute values of the coefficientsin descending order\n",
        "df_rank = np.abs(df_rank).sort_values(by='Class',ascending=False) \n",
        "\n",
        "# Removing Missing Data (not a number)\n",
        "df_rank.dropna(inplace=True)"
      ],
      "metadata": {
        "id": "gfLjrhHF7CFr"
      },
      "execution_count": null,
      "outputs": []
    },
    {
      "cell_type": "code",
      "source": [
        "df_train_all = df[0:150000] \n",
        "\n",
        "# Seperate the data which are the frauds and the no frauds\n",
        "df_train_1 = df_train_all[df_train_all['Class'] == 1] \n",
        "df_train_0 = df_train_all[df_train_all['Class'] == 0]\n",
        "print('In this dataset, we have ' + str(len(df_train_1)) +\" frauds so we need to take a similar number of non-fraud\")\n",
        "\n",
        "df_sample=df_train_0.sample(300)\n",
        "\n",
        "# Gather the frauds with the no frauds.\n",
        "df_train = df_train_1.append(df_sample)  \n",
        "# Mix dataset\n",
        "df_train = df_train.sample(frac=1)"
      ],
      "metadata": {
        "colab": {
          "base_uri": "https://localhost:8080/"
        },
        "id": "71b_zt4b7I6E",
        "outputId": "563bf728-8280-4370-f378-b9bf3342d8fb"
      },
      "execution_count": null,
      "outputs": [
        {
          "output_type": "stream",
          "name": "stdout",
          "text": [
            "In this dataset, we have 85 frauds so we need to take a similar number of non-fraud\n"
          ]
        }
      ]
    },
    {
      "cell_type": "code",
      "source": [
        "X_train = df_train.drop(['Time', 'Class'],axis=1)\n",
        "\n",
        "# Create our label\n",
        "y_train = df_train['Class'] \n",
        "X_train = np.asarray(X_train)\n",
        "y_train = np.asarray(y_train)"
      ],
      "metadata": {
        "id": "-eAsPFH97LKQ"
      },
      "execution_count": null,
      "outputs": []
    },
    {
      "cell_type": "code",
      "source": [
        "df_test_all = df[150000:]\n",
        "\n",
        "X_test_all = df_test_all.drop(['Time', 'Class'],axis=1)\n",
        "y_test_all = df_test_all['Class']\n",
        "X_test_all = np.asarray(X_test_all)\n",
        "y_test_all = np.asarray(y_test_all)"
      ],
      "metadata": {
        "id": "Txd6Agtv7M56"
      },
      "execution_count": null,
      "outputs": []
    },
    {
      "cell_type": "code",
      "source": [
        "X_train_rank = df_train[df_rank.index[1:11]] \n",
        "X_train_rank = np.asarray(X_train_rank)\n",
        "\n",
        "X_test_all_rank = df_test_all[df_rank.index[1:11]]\n",
        "X_test_all_rank = np.asarray(X_test_all_rank)\n",
        "y_test_all = np.asarray(y_test_all)"
      ],
      "metadata": {
        "id": "upjNpraQ7OpZ"
      },
      "execution_count": null,
      "outputs": []
    },
    {
      "cell_type": "code",
      "source": [
        "class_names=np.array(['0','1'])"
      ],
      "metadata": {
        "id": "nYbQsGoO7QWR"
      },
      "execution_count": null,
      "outputs": []
    },
    {
      "cell_type": "code",
      "source": [
        "def plot_confusion_matrix(cm, classes,\n",
        "                          title='Confusion matrix',\n",
        "                          cmap=plt.cm.Blues):\n",
        "    \n",
        "    plt.imshow(cm, interpolation='nearest', cmap=cmap)\n",
        "    plt.title(title)\n",
        "    plt.colorbar()\n",
        "    tick_marks = np.arange(len(classes))\n",
        "    plt.xticks(tick_marks, classes, rotation=45)\n",
        "    plt.yticks(tick_marks, classes)\n",
        "\n",
        "    fmt = 'd' \n",
        "    thresh = cm.max() / 2.\n",
        "    for i, j in itertools.product(range(cm.shape[0]), range(cm.shape[1])):\n",
        "        plt.text(j, i, format(cm[i, j], fmt),\n",
        "                 horizontalalignment=\"center\",\n",
        "                 color=\"white\" if cm[i, j] > thresh else \"black\")\n",
        "\n",
        "    plt.tight_layout()\n",
        "    plt.ylabel('True label')\n",
        "    plt.xlabel('Predicted label')"
      ],
      "metadata": {
        "id": "COW7u5_H7SML"
      },
      "execution_count": null,
      "outputs": []
    },
    {
      "cell_type": "code",
      "source": [
        "classifier = svm.SVC(kernel='linear') \n",
        "\n",
        "# Then we train our model, with our balanced data train.\n",
        "classifier.fit(X_train, y_train)"
      ],
      "metadata": {
        "colab": {
          "base_uri": "https://localhost:8080/"
        },
        "id": "waNDkabT7UrB",
        "outputId": "17fde333-95c4-4834-87b6-f7ee86a1ce2e"
      },
      "execution_count": null,
      "outputs": [
        {
          "output_type": "execute_result",
          "data": {
            "text/plain": [
              "SVC(kernel='linear')"
            ]
          },
          "metadata": {},
          "execution_count": 22
        }
      ]
    }
  ]
}